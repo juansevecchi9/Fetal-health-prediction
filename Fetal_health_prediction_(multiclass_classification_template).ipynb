{
  "nbformat": 4,
  "nbformat_minor": 0,
  "metadata": {
    "colab": {
      "name": "Fetal health prediction (multiclass classification template).ipynb",
      "provenance": [],
      "mount_file_id": "10oav4xBIXoyCII1UM0F70apa8gPf_71I",
      "authorship_tag": "ABX9TyN/DwYyZ6TOJwumcFIRGP2+",
      "include_colab_link": true
    },
    "kernelspec": {
      "name": "python3",
      "display_name": "Python 3"
    },
    "language_info": {
      "name": "python"
    }
  },
  "cells": [
    {
      "cell_type": "markdown",
      "metadata": {
        "id": "view-in-github",
        "colab_type": "text"
      },
      "source": [
        "<a href=\"https://colab.research.google.com/github/juansevecchi9/Fetal-health-prediction/blob/main/Fetal_health_prediction_(multiclass_classification_template).ipynb\" target=\"_parent\"><img src=\"https://colab.research.google.com/assets/colab-badge.svg\" alt=\"Open In Colab\"/></a>"
      ]
    },
    {
      "cell_type": "code",
      "execution_count": 1,
      "metadata": {
        "id": "LI-L4-A92Ti8"
      },
      "outputs": [],
      "source": [
        "#  Libraries\n",
        "import pandas as pd\n",
        "import numpy as np\n",
        "import os\n",
        "import matplotlib.pyplot as plt\n",
        "from sklearn.preprocessing import LabelEncoder\n",
        "from sklearn.model_selection import train_test_split\n",
        "import tensorflow as tf\n",
        "from tensorflow import keras\n",
        "from tensorflow.keras.models import Sequential"
      ]
    },
    {
      "cell_type": "code",
      "source": [
        "# Read dataset\n",
        "\n",
        "df = pd.read_csv('/content/drive/MyDrive/fetal_health.csv')\n",
        "df.head()"
      ],
      "metadata": {
        "colab": {
          "base_uri": "https://localhost:8080/",
          "height": 317
        },
        "id": "APOSh6-72ZjX",
        "outputId": "d167d02a-22d0-42cd-b276-72b88432d84a"
      },
      "execution_count": 2,
      "outputs": [
        {
          "output_type": "execute_result",
          "data": {
            "text/plain": [
              "   baseline value  accelerations  fetal_movement  uterine_contractions  \\\n",
              "0           120.0          0.000             0.0                 0.000   \n",
              "1           132.0          0.006             0.0                 0.006   \n",
              "2           133.0          0.003             0.0                 0.008   \n",
              "3           134.0          0.003             0.0                 0.008   \n",
              "4           132.0          0.007             0.0                 0.008   \n",
              "\n",
              "   light_decelerations  severe_decelerations  prolongued_decelerations  \\\n",
              "0                0.000                   0.0                       0.0   \n",
              "1                0.003                   0.0                       0.0   \n",
              "2                0.003                   0.0                       0.0   \n",
              "3                0.003                   0.0                       0.0   \n",
              "4                0.000                   0.0                       0.0   \n",
              "\n",
              "   abnormal_short_term_variability  mean_value_of_short_term_variability  \\\n",
              "0                             73.0                                   0.5   \n",
              "1                             17.0                                   2.1   \n",
              "2                             16.0                                   2.1   \n",
              "3                             16.0                                   2.4   \n",
              "4                             16.0                                   2.4   \n",
              "\n",
              "   percentage_of_time_with_abnormal_long_term_variability  ...  histogram_min  \\\n",
              "0                                               43.0       ...           62.0   \n",
              "1                                                0.0       ...           68.0   \n",
              "2                                                0.0       ...           68.0   \n",
              "3                                                0.0       ...           53.0   \n",
              "4                                                0.0       ...           53.0   \n",
              "\n",
              "   histogram_max  histogram_number_of_peaks  histogram_number_of_zeroes  \\\n",
              "0          126.0                        2.0                         0.0   \n",
              "1          198.0                        6.0                         1.0   \n",
              "2          198.0                        5.0                         1.0   \n",
              "3          170.0                       11.0                         0.0   \n",
              "4          170.0                        9.0                         0.0   \n",
              "\n",
              "   histogram_mode  histogram_mean  histogram_median  histogram_variance  \\\n",
              "0           120.0           137.0             121.0                73.0   \n",
              "1           141.0           136.0             140.0                12.0   \n",
              "2           141.0           135.0             138.0                13.0   \n",
              "3           137.0           134.0             137.0                13.0   \n",
              "4           137.0           136.0             138.0                11.0   \n",
              "\n",
              "   histogram_tendency  fetal_health  \n",
              "0                 1.0           2.0  \n",
              "1                 0.0           1.0  \n",
              "2                 0.0           1.0  \n",
              "3                 1.0           1.0  \n",
              "4                 1.0           1.0  \n",
              "\n",
              "[5 rows x 22 columns]"
            ],
            "text/html": [
              "\n",
              "  <div id=\"df-ac7cd4e6-c7dc-4747-b466-087f09a7845d\">\n",
              "    <div class=\"colab-df-container\">\n",
              "      <div>\n",
              "<style scoped>\n",
              "    .dataframe tbody tr th:only-of-type {\n",
              "        vertical-align: middle;\n",
              "    }\n",
              "\n",
              "    .dataframe tbody tr th {\n",
              "        vertical-align: top;\n",
              "    }\n",
              "\n",
              "    .dataframe thead th {\n",
              "        text-align: right;\n",
              "    }\n",
              "</style>\n",
              "<table border=\"1\" class=\"dataframe\">\n",
              "  <thead>\n",
              "    <tr style=\"text-align: right;\">\n",
              "      <th></th>\n",
              "      <th>baseline value</th>\n",
              "      <th>accelerations</th>\n",
              "      <th>fetal_movement</th>\n",
              "      <th>uterine_contractions</th>\n",
              "      <th>light_decelerations</th>\n",
              "      <th>severe_decelerations</th>\n",
              "      <th>prolongued_decelerations</th>\n",
              "      <th>abnormal_short_term_variability</th>\n",
              "      <th>mean_value_of_short_term_variability</th>\n",
              "      <th>percentage_of_time_with_abnormal_long_term_variability</th>\n",
              "      <th>...</th>\n",
              "      <th>histogram_min</th>\n",
              "      <th>histogram_max</th>\n",
              "      <th>histogram_number_of_peaks</th>\n",
              "      <th>histogram_number_of_zeroes</th>\n",
              "      <th>histogram_mode</th>\n",
              "      <th>histogram_mean</th>\n",
              "      <th>histogram_median</th>\n",
              "      <th>histogram_variance</th>\n",
              "      <th>histogram_tendency</th>\n",
              "      <th>fetal_health</th>\n",
              "    </tr>\n",
              "  </thead>\n",
              "  <tbody>\n",
              "    <tr>\n",
              "      <th>0</th>\n",
              "      <td>120.0</td>\n",
              "      <td>0.000</td>\n",
              "      <td>0.0</td>\n",
              "      <td>0.000</td>\n",
              "      <td>0.000</td>\n",
              "      <td>0.0</td>\n",
              "      <td>0.0</td>\n",
              "      <td>73.0</td>\n",
              "      <td>0.5</td>\n",
              "      <td>43.0</td>\n",
              "      <td>...</td>\n",
              "      <td>62.0</td>\n",
              "      <td>126.0</td>\n",
              "      <td>2.0</td>\n",
              "      <td>0.0</td>\n",
              "      <td>120.0</td>\n",
              "      <td>137.0</td>\n",
              "      <td>121.0</td>\n",
              "      <td>73.0</td>\n",
              "      <td>1.0</td>\n",
              "      <td>2.0</td>\n",
              "    </tr>\n",
              "    <tr>\n",
              "      <th>1</th>\n",
              "      <td>132.0</td>\n",
              "      <td>0.006</td>\n",
              "      <td>0.0</td>\n",
              "      <td>0.006</td>\n",
              "      <td>0.003</td>\n",
              "      <td>0.0</td>\n",
              "      <td>0.0</td>\n",
              "      <td>17.0</td>\n",
              "      <td>2.1</td>\n",
              "      <td>0.0</td>\n",
              "      <td>...</td>\n",
              "      <td>68.0</td>\n",
              "      <td>198.0</td>\n",
              "      <td>6.0</td>\n",
              "      <td>1.0</td>\n",
              "      <td>141.0</td>\n",
              "      <td>136.0</td>\n",
              "      <td>140.0</td>\n",
              "      <td>12.0</td>\n",
              "      <td>0.0</td>\n",
              "      <td>1.0</td>\n",
              "    </tr>\n",
              "    <tr>\n",
              "      <th>2</th>\n",
              "      <td>133.0</td>\n",
              "      <td>0.003</td>\n",
              "      <td>0.0</td>\n",
              "      <td>0.008</td>\n",
              "      <td>0.003</td>\n",
              "      <td>0.0</td>\n",
              "      <td>0.0</td>\n",
              "      <td>16.0</td>\n",
              "      <td>2.1</td>\n",
              "      <td>0.0</td>\n",
              "      <td>...</td>\n",
              "      <td>68.0</td>\n",
              "      <td>198.0</td>\n",
              "      <td>5.0</td>\n",
              "      <td>1.0</td>\n",
              "      <td>141.0</td>\n",
              "      <td>135.0</td>\n",
              "      <td>138.0</td>\n",
              "      <td>13.0</td>\n",
              "      <td>0.0</td>\n",
              "      <td>1.0</td>\n",
              "    </tr>\n",
              "    <tr>\n",
              "      <th>3</th>\n",
              "      <td>134.0</td>\n",
              "      <td>0.003</td>\n",
              "      <td>0.0</td>\n",
              "      <td>0.008</td>\n",
              "      <td>0.003</td>\n",
              "      <td>0.0</td>\n",
              "      <td>0.0</td>\n",
              "      <td>16.0</td>\n",
              "      <td>2.4</td>\n",
              "      <td>0.0</td>\n",
              "      <td>...</td>\n",
              "      <td>53.0</td>\n",
              "      <td>170.0</td>\n",
              "      <td>11.0</td>\n",
              "      <td>0.0</td>\n",
              "      <td>137.0</td>\n",
              "      <td>134.0</td>\n",
              "      <td>137.0</td>\n",
              "      <td>13.0</td>\n",
              "      <td>1.0</td>\n",
              "      <td>1.0</td>\n",
              "    </tr>\n",
              "    <tr>\n",
              "      <th>4</th>\n",
              "      <td>132.0</td>\n",
              "      <td>0.007</td>\n",
              "      <td>0.0</td>\n",
              "      <td>0.008</td>\n",
              "      <td>0.000</td>\n",
              "      <td>0.0</td>\n",
              "      <td>0.0</td>\n",
              "      <td>16.0</td>\n",
              "      <td>2.4</td>\n",
              "      <td>0.0</td>\n",
              "      <td>...</td>\n",
              "      <td>53.0</td>\n",
              "      <td>170.0</td>\n",
              "      <td>9.0</td>\n",
              "      <td>0.0</td>\n",
              "      <td>137.0</td>\n",
              "      <td>136.0</td>\n",
              "      <td>138.0</td>\n",
              "      <td>11.0</td>\n",
              "      <td>1.0</td>\n",
              "      <td>1.0</td>\n",
              "    </tr>\n",
              "  </tbody>\n",
              "</table>\n",
              "<p>5 rows × 22 columns</p>\n",
              "</div>\n",
              "      <button class=\"colab-df-convert\" onclick=\"convertToInteractive('df-ac7cd4e6-c7dc-4747-b466-087f09a7845d')\"\n",
              "              title=\"Convert this dataframe to an interactive table.\"\n",
              "              style=\"display:none;\">\n",
              "        \n",
              "  <svg xmlns=\"http://www.w3.org/2000/svg\" height=\"24px\"viewBox=\"0 0 24 24\"\n",
              "       width=\"24px\">\n",
              "    <path d=\"M0 0h24v24H0V0z\" fill=\"none\"/>\n",
              "    <path d=\"M18.56 5.44l.94 2.06.94-2.06 2.06-.94-2.06-.94-.94-2.06-.94 2.06-2.06.94zm-11 1L8.5 8.5l.94-2.06 2.06-.94-2.06-.94L8.5 2.5l-.94 2.06-2.06.94zm10 10l.94 2.06.94-2.06 2.06-.94-2.06-.94-.94-2.06-.94 2.06-2.06.94z\"/><path d=\"M17.41 7.96l-1.37-1.37c-.4-.4-.92-.59-1.43-.59-.52 0-1.04.2-1.43.59L10.3 9.45l-7.72 7.72c-.78.78-.78 2.05 0 2.83L4 21.41c.39.39.9.59 1.41.59.51 0 1.02-.2 1.41-.59l7.78-7.78 2.81-2.81c.8-.78.8-2.07 0-2.86zM5.41 20L4 18.59l7.72-7.72 1.47 1.35L5.41 20z\"/>\n",
              "  </svg>\n",
              "      </button>\n",
              "      \n",
              "  <style>\n",
              "    .colab-df-container {\n",
              "      display:flex;\n",
              "      flex-wrap:wrap;\n",
              "      gap: 12px;\n",
              "    }\n",
              "\n",
              "    .colab-df-convert {\n",
              "      background-color: #E8F0FE;\n",
              "      border: none;\n",
              "      border-radius: 50%;\n",
              "      cursor: pointer;\n",
              "      display: none;\n",
              "      fill: #1967D2;\n",
              "      height: 32px;\n",
              "      padding: 0 0 0 0;\n",
              "      width: 32px;\n",
              "    }\n",
              "\n",
              "    .colab-df-convert:hover {\n",
              "      background-color: #E2EBFA;\n",
              "      box-shadow: 0px 1px 2px rgba(60, 64, 67, 0.3), 0px 1px 3px 1px rgba(60, 64, 67, 0.15);\n",
              "      fill: #174EA6;\n",
              "    }\n",
              "\n",
              "    [theme=dark] .colab-df-convert {\n",
              "      background-color: #3B4455;\n",
              "      fill: #D2E3FC;\n",
              "    }\n",
              "\n",
              "    [theme=dark] .colab-df-convert:hover {\n",
              "      background-color: #434B5C;\n",
              "      box-shadow: 0px 1px 3px 1px rgba(0, 0, 0, 0.15);\n",
              "      filter: drop-shadow(0px 1px 2px rgba(0, 0, 0, 0.3));\n",
              "      fill: #FFFFFF;\n",
              "    }\n",
              "  </style>\n",
              "\n",
              "      <script>\n",
              "        const buttonEl =\n",
              "          document.querySelector('#df-ac7cd4e6-c7dc-4747-b466-087f09a7845d button.colab-df-convert');\n",
              "        buttonEl.style.display =\n",
              "          google.colab.kernel.accessAllowed ? 'block' : 'none';\n",
              "\n",
              "        async function convertToInteractive(key) {\n",
              "          const element = document.querySelector('#df-ac7cd4e6-c7dc-4747-b466-087f09a7845d');\n",
              "          const dataTable =\n",
              "            await google.colab.kernel.invokeFunction('convertToInteractive',\n",
              "                                                     [key], {});\n",
              "          if (!dataTable) return;\n",
              "\n",
              "          const docLinkHtml = 'Like what you see? Visit the ' +\n",
              "            '<a target=\"_blank\" href=https://colab.research.google.com/notebooks/data_table.ipynb>data table notebook</a>'\n",
              "            + ' to learn more about interactive tables.';\n",
              "          element.innerHTML = '';\n",
              "          dataTable['output_type'] = 'display_data';\n",
              "          await google.colab.output.renderOutput(dataTable, element);\n",
              "          const docLink = document.createElement('div');\n",
              "          docLink.innerHTML = docLinkHtml;\n",
              "          element.appendChild(docLink);\n",
              "        }\n",
              "      </script>\n",
              "    </div>\n",
              "  </div>\n",
              "  "
            ]
          },
          "metadata": {},
          "execution_count": 2
        }
      ]
    },
    {
      "cell_type": "code",
      "source": [
        "# Separate between input data and output data\n",
        "\n",
        "X = df.loc[:, df.columns != 'fetal_health']\n",
        "y = df.loc[:, ['fetal_health']]\n",
        "\n",
        "print(X.head())\n",
        "\n",
        "print(y.head())\n",
        "\n"
      ],
      "metadata": {
        "id": "MfbBhaFAX4dW",
        "colab": {
          "base_uri": "https://localhost:8080/"
        },
        "outputId": "677e43e4-4ab3-43a5-fca1-f57630eef9b3"
      },
      "execution_count": 3,
      "outputs": [
        {
          "output_type": "stream",
          "name": "stdout",
          "text": [
            "   baseline value  accelerations  fetal_movement  uterine_contractions  \\\n",
            "0           120.0          0.000             0.0                 0.000   \n",
            "1           132.0          0.006             0.0                 0.006   \n",
            "2           133.0          0.003             0.0                 0.008   \n",
            "3           134.0          0.003             0.0                 0.008   \n",
            "4           132.0          0.007             0.0                 0.008   \n",
            "\n",
            "   light_decelerations  severe_decelerations  prolongued_decelerations  \\\n",
            "0                0.000                   0.0                       0.0   \n",
            "1                0.003                   0.0                       0.0   \n",
            "2                0.003                   0.0                       0.0   \n",
            "3                0.003                   0.0                       0.0   \n",
            "4                0.000                   0.0                       0.0   \n",
            "\n",
            "   abnormal_short_term_variability  mean_value_of_short_term_variability  \\\n",
            "0                             73.0                                   0.5   \n",
            "1                             17.0                                   2.1   \n",
            "2                             16.0                                   2.1   \n",
            "3                             16.0                                   2.4   \n",
            "4                             16.0                                   2.4   \n",
            "\n",
            "   percentage_of_time_with_abnormal_long_term_variability  ...  \\\n",
            "0                                               43.0       ...   \n",
            "1                                                0.0       ...   \n",
            "2                                                0.0       ...   \n",
            "3                                                0.0       ...   \n",
            "4                                                0.0       ...   \n",
            "\n",
            "   histogram_width  histogram_min  histogram_max  histogram_number_of_peaks  \\\n",
            "0             64.0           62.0          126.0                        2.0   \n",
            "1            130.0           68.0          198.0                        6.0   \n",
            "2            130.0           68.0          198.0                        5.0   \n",
            "3            117.0           53.0          170.0                       11.0   \n",
            "4            117.0           53.0          170.0                        9.0   \n",
            "\n",
            "   histogram_number_of_zeroes  histogram_mode  histogram_mean  \\\n",
            "0                         0.0           120.0           137.0   \n",
            "1                         1.0           141.0           136.0   \n",
            "2                         1.0           141.0           135.0   \n",
            "3                         0.0           137.0           134.0   \n",
            "4                         0.0           137.0           136.0   \n",
            "\n",
            "   histogram_median  histogram_variance  histogram_tendency  \n",
            "0             121.0                73.0                 1.0  \n",
            "1             140.0                12.0                 0.0  \n",
            "2             138.0                13.0                 0.0  \n",
            "3             137.0                13.0                 1.0  \n",
            "4             138.0                11.0                 1.0  \n",
            "\n",
            "[5 rows x 21 columns]\n",
            "   fetal_health\n",
            "0           2.0\n",
            "1           1.0\n",
            "2           1.0\n",
            "3           1.0\n",
            "4           1.0\n"
          ]
        }
      ]
    },
    {
      "cell_type": "code",
      "source": [
        "# Turn output data into a matrix \n",
        "\n",
        "y_enc = LabelEncoder().fit_transform(y)\n",
        "\n",
        "\n",
        "\n",
        "y_label = tf.keras.utils.to_categorical(y_enc)\n",
        "\n",
        "print(y_enc)\n",
        "print(y_label[27])\n"
      ],
      "metadata": {
        "colab": {
          "base_uri": "https://localhost:8080/"
        },
        "id": "gwk2CMWvYHOI",
        "outputId": "7288a331-15e5-4d1d-acd6-737b6077dd8d"
      },
      "execution_count": 4,
      "outputs": [
        {
          "output_type": "stream",
          "name": "stdout",
          "text": [
            "[1 0 0 ... 1 1 0]\n",
            "[0. 0. 1.]\n"
          ]
        },
        {
          "output_type": "stream",
          "name": "stderr",
          "text": [
            "/usr/local/lib/python3.7/dist-packages/sklearn/preprocessing/_label.py:115: DataConversionWarning: A column-vector y was passed when a 1d array was expected. Please change the shape of y to (n_samples, ), for example using ravel().\n",
            "  y = column_or_1d(y, warn=True)\n"
          ]
        }
      ]
    },
    {
      "cell_type": "code",
      "source": [
        "# Train and test data\n",
        "\n",
        "X_train, X_test, y_train, y_test = train_test_split(X, y_label, test_size=0.3)"
      ],
      "metadata": {
        "id": "L7AtJI8ObR7H"
      },
      "execution_count": 5,
      "outputs": []
    },
    {
      "cell_type": "code",
      "source": [
        "print(f\"Train shape : {X_train.shape}, Y Train : {y_train.shape}\")\n",
        "print(X_train.shape[1:])"
      ],
      "metadata": {
        "colab": {
          "base_uri": "https://localhost:8080/"
        },
        "id": "t891ZDIDYU-S",
        "outputId": "0002f531-add5-4832-96c5-f83e4e0c2886"
      },
      "execution_count": 6,
      "outputs": [
        {
          "output_type": "stream",
          "name": "stdout",
          "text": [
            "Train shape : (1488, 21), Y Train : (1488, 3)\n",
            "(21,)\n"
          ]
        }
      ]
    },
    {
      "cell_type": "code",
      "source": [
        "# Model\n",
        "\n",
        "def get_model():\n",
        "    model = Sequential([\n",
        "        keras.layers.Input(shape=X_train.shape[1:]),\n",
        "        keras.layers.Dense(1000, activation='relu'),\n",
        "        keras.layers.Dense(500, activation='relu',),\n",
        "        keras.layers.Dense(300, activation='relu'),\n",
        "        keras.layers.Dropout(0.2),\n",
        "        keras.layers.Dense(3, activation='softmax') #Better for multiclass\n",
        "    ])\n",
        "    \n",
        "    return model"
      ],
      "metadata": {
        "id": "BVZfdiRnYY6J"
      },
      "execution_count": 7,
      "outputs": []
    },
    {
      "cell_type": "code",
      "source": [
        "model = get_model()\n",
        "model.summary()"
      ],
      "metadata": {
        "colab": {
          "base_uri": "https://localhost:8080/"
        },
        "id": "o6oum_cKYc7L",
        "outputId": "a7313d45-b24c-4b3e-fd76-ba793357c434"
      },
      "execution_count": 8,
      "outputs": [
        {
          "output_type": "stream",
          "name": "stdout",
          "text": [
            "Model: \"sequential\"\n",
            "_________________________________________________________________\n",
            " Layer (type)                Output Shape              Param #   \n",
            "=================================================================\n",
            " dense (Dense)               (None, 1000)              22000     \n",
            "                                                                 \n",
            " dense_1 (Dense)             (None, 500)               500500    \n",
            "                                                                 \n",
            " dense_2 (Dense)             (None, 300)               150300    \n",
            "                                                                 \n",
            " dropout (Dropout)           (None, 300)               0         \n",
            "                                                                 \n",
            " dense_3 (Dense)             (None, 3)                 903       \n",
            "                                                                 \n",
            "=================================================================\n",
            "Total params: 673,703\n",
            "Trainable params: 673,703\n",
            "Non-trainable params: 0\n",
            "_________________________________________________________________\n"
          ]
        }
      ]
    },
    {
      "cell_type": "code",
      "source": [
        "# Compile the model\n",
        "model.compile(optimizer='adam', \n",
        "              loss=keras.losses.CategoricalCrossentropy(),\n",
        "             metrics=['accuracy'])"
      ],
      "metadata": {
        "id": "1o3ssqo7YlMs"
      },
      "execution_count": 9,
      "outputs": []
    },
    {
      "cell_type": "code",
      "source": [
        "history = model.fit(X_train, y_train, epochs=30, validation_data=(X_test, y_test), verbose=1)"
      ],
      "metadata": {
        "colab": {
          "base_uri": "https://localhost:8080/"
        },
        "id": "Kz_9IPhDYnlT",
        "outputId": "3a96b181-148d-4b4b-ba67-0f643fd958fb"
      },
      "execution_count": 10,
      "outputs": [
        {
          "output_type": "stream",
          "name": "stdout",
          "text": [
            "Epoch 1/30\n",
            "47/47 [==============================] - 1s 16ms/step - loss: 4.7048 - accuracy: 0.7151 - val_loss: 0.5558 - val_accuracy: 0.8354\n",
            "Epoch 2/30\n",
            "47/47 [==============================] - 1s 11ms/step - loss: 0.5905 - accuracy: 0.8011 - val_loss: 0.4324 - val_accuracy: 0.8527\n",
            "Epoch 3/30\n",
            "47/47 [==============================] - 1s 11ms/step - loss: 0.4828 - accuracy: 0.8098 - val_loss: 0.3616 - val_accuracy: 0.8542\n",
            "Epoch 4/30\n",
            "47/47 [==============================] - 1s 11ms/step - loss: 0.4343 - accuracy: 0.8239 - val_loss: 0.3670 - val_accuracy: 0.8589\n",
            "Epoch 5/30\n",
            "47/47 [==============================] - 1s 12ms/step - loss: 0.4364 - accuracy: 0.8273 - val_loss: 0.3882 - val_accuracy: 0.8511\n",
            "Epoch 6/30\n",
            "47/47 [==============================] - 1s 11ms/step - loss: 0.4228 - accuracy: 0.8414 - val_loss: 0.3432 - val_accuracy: 0.8605\n",
            "Epoch 7/30\n",
            "47/47 [==============================] - 1s 11ms/step - loss: 0.4081 - accuracy: 0.8421 - val_loss: 0.3504 - val_accuracy: 0.8589\n",
            "Epoch 8/30\n",
            "47/47 [==============================] - 1s 11ms/step - loss: 0.4021 - accuracy: 0.8461 - val_loss: 0.3259 - val_accuracy: 0.8668\n",
            "Epoch 9/30\n",
            "47/47 [==============================] - 1s 12ms/step - loss: 0.4016 - accuracy: 0.8474 - val_loss: 0.3247 - val_accuracy: 0.8762\n",
            "Epoch 10/30\n",
            "47/47 [==============================] - 1s 12ms/step - loss: 0.3841 - accuracy: 0.8495 - val_loss: 0.3785 - val_accuracy: 0.8495\n",
            "Epoch 11/30\n",
            "47/47 [==============================] - 1s 11ms/step - loss: 0.3824 - accuracy: 0.8515 - val_loss: 0.3421 - val_accuracy: 0.8683\n",
            "Epoch 12/30\n",
            "47/47 [==============================] - 1s 11ms/step - loss: 0.4074 - accuracy: 0.8387 - val_loss: 0.3943 - val_accuracy: 0.8668\n",
            "Epoch 13/30\n",
            "47/47 [==============================] - 1s 12ms/step - loss: 0.3807 - accuracy: 0.8555 - val_loss: 0.3206 - val_accuracy: 0.8683\n",
            "Epoch 14/30\n",
            "47/47 [==============================] - 1s 11ms/step - loss: 0.3890 - accuracy: 0.8528 - val_loss: 0.3315 - val_accuracy: 0.8683\n",
            "Epoch 15/30\n",
            "47/47 [==============================] - 1s 11ms/step - loss: 0.3673 - accuracy: 0.8595 - val_loss: 0.3384 - val_accuracy: 0.8762\n",
            "Epoch 16/30\n",
            "47/47 [==============================] - 1s 12ms/step - loss: 0.3556 - accuracy: 0.8642 - val_loss: 0.3179 - val_accuracy: 0.8730\n",
            "Epoch 17/30\n",
            "47/47 [==============================] - 1s 11ms/step - loss: 0.3630 - accuracy: 0.8636 - val_loss: 0.3346 - val_accuracy: 0.8683\n",
            "Epoch 18/30\n",
            "47/47 [==============================] - 1s 12ms/step - loss: 0.3778 - accuracy: 0.8595 - val_loss: 0.3423 - val_accuracy: 0.8715\n",
            "Epoch 19/30\n",
            "47/47 [==============================] - 1s 11ms/step - loss: 0.3564 - accuracy: 0.8663 - val_loss: 0.3375 - val_accuracy: 0.8856\n",
            "Epoch 20/30\n",
            "47/47 [==============================] - 1s 11ms/step - loss: 0.3759 - accuracy: 0.8542 - val_loss: 0.3540 - val_accuracy: 0.8542\n",
            "Epoch 21/30\n",
            "47/47 [==============================] - 1s 11ms/step - loss: 0.3497 - accuracy: 0.8629 - val_loss: 0.3861 - val_accuracy: 0.8621\n",
            "Epoch 22/30\n",
            "47/47 [==============================] - 1s 11ms/step - loss: 0.3411 - accuracy: 0.8730 - val_loss: 0.5093 - val_accuracy: 0.7853\n",
            "Epoch 23/30\n",
            "47/47 [==============================] - 1s 11ms/step - loss: 0.3647 - accuracy: 0.8555 - val_loss: 0.2939 - val_accuracy: 0.8887\n",
            "Epoch 24/30\n",
            "47/47 [==============================] - 1s 12ms/step - loss: 0.3528 - accuracy: 0.8622 - val_loss: 0.3094 - val_accuracy: 0.8777\n",
            "Epoch 25/30\n",
            "47/47 [==============================] - 1s 11ms/step - loss: 0.3380 - accuracy: 0.8743 - val_loss: 0.3117 - val_accuracy: 0.8809\n",
            "Epoch 26/30\n",
            "47/47 [==============================] - 1s 11ms/step - loss: 0.3316 - accuracy: 0.8669 - val_loss: 0.3190 - val_accuracy: 0.8699\n",
            "Epoch 27/30\n",
            "47/47 [==============================] - 1s 11ms/step - loss: 0.3401 - accuracy: 0.8642 - val_loss: 0.3103 - val_accuracy: 0.8793\n",
            "Epoch 28/30\n",
            "47/47 [==============================] - 1s 11ms/step - loss: 0.3257 - accuracy: 0.8642 - val_loss: 0.3306 - val_accuracy: 0.8777\n",
            "Epoch 29/30\n",
            "47/47 [==============================] - 1s 11ms/step - loss: 0.3404 - accuracy: 0.8582 - val_loss: 0.3508 - val_accuracy: 0.8605\n",
            "Epoch 30/30\n",
            "47/47 [==============================] - 1s 11ms/step - loss: 0.3325 - accuracy: 0.8743 - val_loss: 0.2814 - val_accuracy: 0.8903\n"
          ]
        }
      ]
    },
    {
      "cell_type": "code",
      "source": [
        "model.evaluate(X_test, y_test)"
      ],
      "metadata": {
        "colab": {
          "base_uri": "https://localhost:8080/"
        },
        "id": "He9J7OZBY1FD",
        "outputId": "3c3e6ade-205e-4ac2-8ee6-cc526312f7d7"
      },
      "execution_count": 11,
      "outputs": [
        {
          "output_type": "stream",
          "name": "stdout",
          "text": [
            "20/20 [==============================] - 0s 3ms/step - loss: 0.2814 - accuracy: 0.8903\n"
          ]
        },
        {
          "output_type": "execute_result",
          "data": {
            "text/plain": [
              "[0.281438946723938, 0.890282154083252]"
            ]
          },
          "metadata": {},
          "execution_count": 11
        }
      ]
    },
    {
      "cell_type": "code",
      "source": [
        "# Results\n",
        "\n",
        "pd.DataFrame(history.history).plot(figsize=(10,6))\n",
        "plt.grid(True)\n",
        "plt.gca().set_ylim(0, 1)\n",
        "plt.show()"
      ],
      "metadata": {
        "colab": {
          "base_uri": "https://localhost:8080/",
          "height": 378
        },
        "id": "ybFwMLkVY2D-",
        "outputId": "c828facd-454f-47dc-ec02-65e29856ce7d"
      },
      "execution_count": 12,
      "outputs": [
        {
          "output_type": "display_data",
          "data": {
            "text/plain": [
              "<Figure size 720x432 with 1 Axes>"
            ],
            "image/png": "[encoded data removed]"
          },
          "metadata": {
            "needs_background": "light"
          }
        }
      ]
    },
    {
      "cell_type": "code",
      "source": [
        "new_data, y_actual = X_test[:5], y_test[:5]\n",
        "\n",
        "y_proba = model.predict(new_data)\n",
        "\n",
        "for prediction in y_proba:\n",
        "  max = 0\n",
        "  for number in prediction:\n",
        "    if number > max:\n",
        "      max = number\n",
        "  if max == prediction[0]:\n",
        "    print(\"Bad\")\n",
        "  elif max == prediction[1]:\n",
        "    print(\"Normal\")\n",
        "  else:\n",
        "    print(\"Good\")\n",
        "\n",
        "print(y_proba) \n",
        "print(y_actual) "
      ],
      "metadata": {
        "id": "qDFEGSvxaKV5",
        "colab": {
          "base_uri": "https://localhost:8080/"
        },
        "outputId": "0080ac6a-3805-46c7-c4af-ea730e354751"
      },
      "execution_count": 13,
      "outputs": [
        {
          "output_type": "stream",
          "name": "stdout",
          "text": [
            "Bad\n",
            "Bad\n",
            "Bad\n",
            "Normal\n",
            "Good\n",
            "[[9.3412739e-01 6.0512409e-02 5.3601000e-03]\n",
            " [6.1943668e-01 3.6254832e-01 1.8015005e-02]\n",
            " [9.6691096e-01 3.3039734e-02 4.9333288e-05]\n",
            " [3.6896294e-01 4.7030708e-01 1.6072997e-01]\n",
            " [1.7749237e-02 6.5555447e-03 9.7569525e-01]]\n",
            "[[1. 0. 0.]\n",
            " [1. 0. 0.]\n",
            " [1. 0. 0.]\n",
            " [0. 1. 0.]\n",
            " [0. 0. 1.]]\n"
          ]
        }
      ]
    }
  ]
}